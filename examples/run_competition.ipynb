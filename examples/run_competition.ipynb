{
 "cells": [
  {
   "cell_type": "code",
   "execution_count": null,
   "id": "39a7efe4",
   "metadata": {},
   "outputs": [
    {
     "name": "stdout",
     "output_type": "stream",
     "text": [
      "No LANGSMITH_API_KEY in env\n"
     ]
    }
   ],
   "source": [
    "import os\n",
    "import sys\n",
    "from dotenv import load_dotenv\n",
    "from langchain_openai import ChatOpenAI\n",
    "from pathlib import Path\n",
    "module_path = os.path.abspath(os.path.join(os.sep.join(['..'])))\n",
    "if module_path not in sys.path:\n",
    "    sys.path.append(module_path)\n",
    "from fedotllm.data import Dataset\n",
    "from fedotllm.main import FedotAI\n",
    "def _set_env(var: str):\n",
    "    if not os.environ.get(var):\n",
    "        print(f\"No {var} in env\")\n",
    "\n",
    "load_dotenv()\n",
    "_set_env(\"LANGSMITH_API_KEY\")\n",
    "_set_env(\"OPENAI_TOKEN\")\n",
    "_set_env(\"VSEGPT_TOKEN\")"
   ]
  },
  {
   "cell_type": "code",
   "execution_count": null,
   "id": "56f17d7e",
   "metadata": {},
   "outputs": [],
   "source": [
    "from fedotllm.llm.inference import AIInference, OpenaiEmbeddings\n",
    "\n",
    "comp_name = \"titanic\"\n",
    "tag = f\"{comp_name}_run\"\n",
    "task_name = comp_name\n",
    "\n",
    "model='gpt-4o-mini'\n",
    "#model='gpt-4o'\n",
    "\n",
    "# base_url='https://models.inference.ai.azure.com'\n",
    "# api_key=os.environ['OPENAI_TOKEN']\n",
    "# tag = None\n",
    "\n",
    "base_url='https://api.vsegpt.ru/v1/'\n",
    "api_key=os.environ['OPENAI_TOKEN']\n",
    "\n",
    "task_path = Path(module_path) / 'competition' / task_name\n",
    "overview_path = task_path / 'overview.txt'\n",
    "with open(overview_path,\"r\") as f:\n",
    "    overview = f.read()\n",
    "\n",
    "from fedotllm.output.jupyter import JupyterOutput\n",
    "fedot_ai = FedotAI(task_path=task_path, \n",
    "                   inference=AIInference(\n",
    "                       model=model,\n",
    "                       base_url=base_url,\n",
    "                       api_key=api_key,\n",
    "                       tag = tag\n",
    "                   ),\n",
    "                   handlers=JupyterOutput().subscribe,\n",
    "                   automl_only = True)\n",
    "async for _ in fedot_ai.ask(overview):\n",
    "    continue"
   ]
  }
 ],
 "metadata": {
  "kernelspec": {
   "display_name": ".venv",
   "language": "python",
   "name": "python3"
  },
  "language_info": {
   "codemirror_mode": {
    "name": "ipython",
    "version": 3
   },
   "file_extension": ".py",
   "mimetype": "text/x-python",
   "name": "python",
   "nbconvert_exporter": "python",
   "pygments_lexer": "ipython3",
   "version": "3.10.17"
  }
 },
 "nbformat": 4,
 "nbformat_minor": 5
}
