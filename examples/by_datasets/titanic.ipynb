{
 "cells": [
  {
   "cell_type": "markdown",
   "metadata": {},
   "source": [
    "# Titanic Survival Prediction using FEDOT and LLM\n",
    "\n",
    "This notebook demonstrates the process of analyzing the Titanic dataset and predicting passenger survival using the FEDOT framework enhanced with Large Language Models (LLM).\n"
   ]
  },
  {
   "cell_type": "code",
   "execution_count": 1,
   "metadata": {
    "ExecuteTime": {
     "end_time": "2024-08-10T10:02:39.368494Z",
     "start_time": "2024-08-10T10:02:37.102795Z"
    }
   },
   "outputs": [],
   "source": [
    "import os\n",
    "import sys\n",
    "\n",
    "module_path = os.path.abspath(os.path.join(os.sep.join(['..', '..'])))\n",
    "if module_path not in sys.path:\n",
    "    sys.path.append(module_path)\n",
    "\n",
    "from fedotllm.main import FedotAI"
   ]
  },
  {
   "cell_type": "code",
   "execution_count": 2,
   "metadata": {
    "vscode": {
     "languageId": "ruby"
    }
   },
   "outputs": [
    {
     "name": "stdout",
     "output_type": "stream",
     "text": [
      "Downloading dataset to: titanic\n",
      "Dataset downloaded and extracted to titanic\n"
     ]
    }
   ],
   "source": [
    "import kaggle\n",
    "import zipfile\n",
    "dataset_path = \"titanic\"\n",
    "competition_name = 'titanic'\n",
    "os.makedirs(dataset_path, exist_ok=True)\n",
    "\n",
    "print(f\"Downloading dataset to: {dataset_path}\")\n",
    "kaggle.api.competition_download_files(competition_name, path=dataset_path)\n",
    "\n",
    "zip_file_path = os.path.join(dataset_path, f'{competition_name}.zip')\n",
    "with zipfile.ZipFile(zip_file_path, 'r') as zip_ref:\n",
    "    zip_ref.extractall(dataset_path)\n",
    "\n",
    "print(f\"Dataset downloaded and extracted to {dataset_path}\")\n",
    "os.remove(zip_file_path)"
   ]
  },
  {
   "cell_type": "code",
   "execution_count": 3,
   "metadata": {
    "ExecuteTime": {
     "end_time": "2024-08-10T10:02:39.374269Z",
     "start_time": "2024-08-10T10:02:39.371821Z"
    }
   },
   "outputs": [],
   "source": [
    "description=\"\"\"The sinking of the Titanic is one of the most infamous shipwrecks in history.\\n\\n\n",
    "On April 15, 1912, during her maiden voyage, the widely considered “unsinkable”\n",
    "RMS Titanic sank after colliding with an iceberg. Unfortunately, there weren’t enough lifeboats for everyone onboard,\n",
    "resulting in the death of 1502 out of 2224 passengers and crew.\\n\\n\n",
    "While there was some element of luck involved in surviving,\n",
    "it seems some groups of people were more likely to survive than others.\\n\\n\n",
    "In this challenge, we ask you to build a predictive model that answers the question: “what sorts of people were more likely to survive?”\n",
    "using passenger data (ie name, age, gender, socio-economic class, etc).\\n\\n\n",
    "In this competition, you’ll gain access to two similar datasets that include passenger information like name, age, gender, socio-economic class, etc.\n",
    "One dataset is titled train.csv and the other is titled test.csv.\\n\\n\n",
    "Train.csv will contain the details of a subset of the passengers on board (891 to be exact) and importantly,\n",
    "will reveal whether they survived or not, also known as the “ground truth”.\\n\\n\n",
    "The test.csv dataset contains similar information but does not disclose the “ground truth” for each passenger.\n",
    "It’s your job to predict these outcomes.\\n\\n\n",
    "Using the patterns you find in the train.csv data, predict whether the other 418 passengers on board (found in test.csv) survived.\\n\\n\n",
    "Check out the “Data” tab to explore the datasets even further.\n",
    "Once you feel you’ve created a competitive model, submit it to Kaggle to see where your model stands on our leaderboard against other Kagglers.\n",
    "\\n\\nDataset Description\n",
    "\\nOverview\\n\n",
    "The data has been split into two groups:\\n\\n\n",
    "training set (train.csv)\\n\n",
    "test set (test.csv)\\n\n",
    "The training set should be used to build your machine learning models.\n",
    "For the training set, we provide the outcome (also known as the “ground truth”) for each passenger.\n",
    "Your model will be based on “features” like passengers’ gender and class. You can also use feature engineering to create new features.\\n\\n\n",
    "The test set should be used to see how well your model performs on unseen data.\n",
    "For the test set, we do not provide the ground truth for each passenger. It is your job to predict these outcomes.\n",
    "For each passenger in the test set, use the model you trained to predict whether or not they survived the sinking of the Titanic.\n",
    "\\n\\nWe also include gender_submission.csv, a set of predictions that assume all and only female passengers survive, as an example of what a submission file should look like.\n",
    "\\n\"\"\""
   ]
  },
  {
   "cell_type": "code",
   "execution_count": 4,
   "metadata": {},
   "outputs": [
    {
     "data": {
      "text/markdown": [
       "================== HumanMessage ==================\n",
       "\n",
       "The sinking of the Titanic is one of the most infamous shipwrecks in history.\n",
       "\n",
       "\n",
       "On April 15, 1912, during her maiden voyage, the widely considered “unsinkable”\n",
       "RMS Titanic sank after colliding with an iceberg. Unfortunately, there weren’t enough lifeboats for everyone onboard,\n",
       "resulting in the death of 1502 out of 2224 passengers and crew.\n",
       "\n",
       "\n",
       "While there was some element of luck involved in surviving,\n",
       "it seems some groups of people were more likely to survive than others.\n",
       "\n",
       "\n",
       "In this challenge, we ask you to build a predictive model that answers the question: “what sorts of people were more likely to survive?”\n",
       "using passenger data (ie name, age, gender, socio-economic class, etc).\n",
       "\n",
       "\n",
       "In this competition, you’ll gain access to two similar datasets that include passenger information like name, age, gender, socio-economic class, etc.\n",
       "One dataset is titled train.csv and the other is titled test.csv.\n",
       "\n",
       "\n",
       "Train.csv will contain the details of a subset of the passengers on board (891 to be exact) and importantly,\n",
       "will reveal whether they survived or not, also known as the “ground truth”.\n",
       "\n",
       "\n",
       "The test.csv dataset contains similar information but does not disclose the “ground truth” for each passenger.\n",
       "It’s your job to predict these outcomes.\n",
       "\n",
       "\n",
       "Using the patterns you find in the train.csv data, predict whether the other 418 passengers on board (found in test.csv) survived.\n",
       "\n",
       "\n",
       "Check out the “Data” tab to explore the datasets even further.\n",
       "Once you feel you’ve created a competitive model, submit it to Kaggle to see where your model stands on our leaderboard against other Kagglers.\n",
       "\n",
       "\n",
       "Dataset Description\n",
       "\n",
       "Overview\n",
       "\n",
       "The data has been split into two groups:\n",
       "\n",
       "\n",
       "training set (train.csv)\n",
       "\n",
       "test set (test.csv)\n",
       "\n",
       "The training set should be used to build your machine learning models.\n",
       "For the training set, we provide the outcome (also known as the “ground truth”) for each passenger.\n",
       "Your model will be based on “features” like passengers’ gender and class. You can also use feature engineering to create new features.\n",
       "\n",
       "\n",
       "The test set should be used to see how well your model performs on unseen data.\n",
       "For the test set, we do not provide the ground truth for each passenger. It is your job to predict these outcomes.\n",
       "For each passenger in the test set, use the model you trained to predict whether or not they survived the sinking of the Titanic.\n",
       "\n",
       "\n",
       "We also include gender_submission.csv, a set of predictions that assume all and only female passengers survive, as an example of what a submission file should look like.\n",
       "\n",
       "\n",
       "\n",
       "================== AutoMLAgent ===================\n",
       "\n",
       "**🚢 Titanic Survival Prediction Report**  \n",
       "\n",
       "**Model Performance:**  \n",
       "- **Accuracy:** 78.8%  \n",
       "- **Pipeline:** Logit → CatBoost → Scaling → XGBoost → LightGBM  \n",
       "\n",
       "**Key Insights:**  \n",
       "- **Top Features:** Likely gender (`Sex`), class (`Pclass`), and fare (`Fare`) – common drivers in Titanic survival.  \n",
       "- **Pipeline Depth:** 3 layers, 5 nodes – balanced complexity.  \n",
       "\n",
       "**Model Config Highlights:**  \n",
       "\n",
       "| Component  | Key Settings |  \n",
       "|------------|--------------|  \n",
       "| **CatBoost** | `num_trees=3000`, `max_depth=5` |  \n",
       "| **XGBoost** | `booster=gbtree`, early stopping |  \n",
       "| **LightGBM** | `bagging_fraction=0.85`, categorical support |  \n",
       "\n",
       "**Code Summary:**  \n",
       "- Dropped low-impact cols (`Name`, `Ticket`).  \n",
       "- Mapped `Sex`/`Embarked` to numeric.  \n",
       "- Used median/mode for missing values.  \n",
       "\n",
       "**Submission Ready:** Predictions saved to `submission.csv`.\n",
       "\n",
       "================== AutoMLAgent ===================\n",
       "\n",
       "**🚢 Titanic Survival Prediction Report**  \n",
       "\n",
       "**Model Performance:**  \n",
       "- **Accuracy:** 84.4%  \n",
       "- **Pipeline:** Random Forest + Scaling  \n",
       "\n",
       "**Key Findings:**  \n",
       "- **Top Features:**  \n",
       "  - `Sex_male` (most significant)  \n",
       "  - `Pclass` (socio-economic class)  \n",
       "  - `Age`  \n",
       "  - `Fare`  \n",
       "\n",
       "**Pipeline Details:**  \n",
       "| Component | Hyperparameters |  \n",
       "|-----------|----------------|  \n",
       "| **Random Forest** | `criterion=entropy`, `max_features=0.3`, `min_samples_split=6` |  \n",
       "| **Scaling** | Default (no params) |  \n",
       "\n",
       "**Why It Works:**  \n",
       "- RF handles non-linear relationships well (e.g., age vs. survival).  \n",
       "- Gender (`Sex_male`) dominates—women had priority for lifeboats.  \n",
       "\n",
       "**Code Highlights:**  \n",
       "```python\n",
       "# Simplified feature engineering:\n",
       "features = data.drop(['PassengerId', 'Name', 'Cabin'], axis=1)\n",
       "features = pd.get_dummies(features, columns=['Sex', 'Embarked'])\n",
       "```  \n",
       "\n",
       "**Final Note:**  \n",
       "Model aligns with historical trends—women and higher-class passengers survived more. 🎯"
      ],
      "text/plain": [
       "<IPython.core.display.Markdown object>"
      ]
     },
     "metadata": {},
     "output_type": "display_data"
    }
   ],
   "source": [
    "from fedotllm.output import JupyterOutput\n",
    "output_path = os.path.join(module_path, 'output')\n",
    "os.makedirs(output_path, exist_ok=True)\n",
    "    \n",
    "fedot_ai = FedotAI(\n",
    "        task_path=dataset_path,\n",
    "        workspace=output_path,\n",
    "        handlers=JupyterOutput().subscribe\n",
    "    )\n",
    "async for _ in fedot_ai.ask(message=description):\n",
    "    continue"
   ]
  },
  {
   "cell_type": "code",
   "execution_count": 5,
   "metadata": {},
   "outputs": [
    {
     "name": "stdout",
     "output_type": "stream",
     "text": [
      "Files in output directory:\n",
      "- pipeline\n",
      "- solution.py\n",
      "- submission.csv\n"
     ]
    }
   ],
   "source": [
    "print(\"Files in output directory:\")\n",
    "for file in os.listdir(output_path):\n",
    "    print(f\"- {file}\")"
   ]
  },
  {
   "cell_type": "code",
   "execution_count": 6,
   "metadata": {},
   "outputs": [
    {
     "data": {
      "image/png": "[encoded data removed]",
      "text/plain": [
       "<Figure size 700x700 with 1 Axes>"
      ]
     },
     "metadata": {},
     "output_type": "display_data"
    }
   ],
   "source": [
    "from fedot import Fedot\n",
    "model = Fedot(problem=\"classification\")\n",
    "model.load(os.path.join(output_path, 'pipeline'))\n",
    "model.current_pipeline.show()"
   ]
  }
 ],
 "metadata": {
  "kernelspec": {
   "display_name": "fedotllm",
   "language": "python",
   "name": "python3"
  },
  "language_info": {
   "codemirror_mode": {
    "name": "ipython",
    "version": 3
   },
   "file_extension": ".py",
   "mimetype": "text/x-python",
   "name": "python",
   "nbconvert_exporter": "python",
   "pygments_lexer": "ipython3",
   "version": "3.11.11"
  }
 },
 "nbformat": 4,
 "nbformat_minor": 2
}
