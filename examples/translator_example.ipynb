{
 "cells": [
  {
   "cell_type": "markdown",
   "id": "feb4ac62",
   "metadata": {},
   "source": [
    "# TranslatorAgent Interactive Example\n",
    "\n",
    "This notebook demonstrates how to use the `TranslatorAgent` class for AI-powered text translation with automatic language detection and formatting preservation."
   ]
  },
  {
   "cell_type": "markdown",
   "id": "cbcfeb9b",
   "metadata": {},
   "source": [
    "## Setup\n",
    "\n",
    "First, let's import the necessary modules and set up the translator."
   ]
  },
  {
   "cell_type": "code",
   "execution_count": 1,
   "id": "8e2d745d",
   "metadata": {},
   "outputs": [
    {
     "name": "stdout",
     "output_type": "stream",
     "text": [
      "TranslatorAgent initialized successfully!\n"
     ]
    }
   ],
   "source": [
    "import sys, os\n",
    "\n",
    "module_path = os.path.abspath(os.path.join(os.getcwd(), '..'))\n",
    "\n",
    "if module_path not in sys.path:\n",
    "    sys.path.insert(0, module_path)\n",
    "    \n",
    "from fedotllm.agents.translator import TranslatorAgent\n",
    "from fedotllm.llm import AIInference\n",
    "\n",
    "# Initialize AI inference\n",
    "# Make sure to set FEDOTLLM_LLM_API_KEY environment variable\n",
    "inference = AIInference()\n",
    "\n",
    "# Create translator instance\n",
    "translator = TranslatorAgent(inference)\n",
    "\n",
    "print(\"TranslatorAgent initialized successfully!\")"
   ]
  },
  {
   "cell_type": "markdown",
   "id": "99bbd29d",
   "metadata": {},
   "source": [
    "## Example 1: Simple Text Translation\n",
    "\n",
    "Let's start with a basic translation from Spanish to English."
   ]
  },
  {
   "cell_type": "code",
   "execution_count": 2,
   "id": "8605e36a",
   "metadata": {},
   "outputs": [
    {
     "name": "stdout",
     "output_type": "stream",
     "text": [
      "Original (Spanish): Hola, ¿cómo estás? Me llamo Ana y soy ingeniera de software.\n",
      "Detected language: es. Translating to English using AIInference with improved formatting preservation.\n",
      "\n",
      "Translated to English: Hello, how are you? My name is Ana and I am a software engineer.\n",
      "Translating back to es using AIInference with improved formatting preservation.\n",
      "\n",
      "Translated to English: Hello, how are you? My name is Ana and I am a software engineer.\n",
      "Translating back to es using AIInference with improved formatting preservation.\n",
      "\n",
      "Back to Spanish: ¿Hola, cómo estás? Me llamo Ana y soy ingeniera de software.\n",
      "\n",
      "Back to Spanish: ¿Hola, cómo estás? Me llamo Ana y soy ingeniera de software.\n"
     ]
    }
   ],
   "source": [
    "# Spanish text\n",
    "spanish_text = \"Hola, ¿cómo estás? Me llamo Ana y soy ingeniera de software.\"\n",
    "\n",
    "print(f\"Original (Spanish): {spanish_text}\")\n",
    "\n",
    "# Translate to English\n",
    "english_translation = translator.translate_input_to_english(spanish_text)\n",
    "print(f\"\\nTranslated to English: {english_translation}\")\n",
    "\n",
    "# Translate back to original language\n",
    "back_translation = translator.translate_output_to_source_language(english_translation)\n",
    "print(f\"\\nBack to Spanish: {back_translation}\")"
   ]
  },
  {
   "cell_type": "markdown",
   "id": "f373e1ea",
   "metadata": {},
   "source": [
    "## Example 2: Markdown Text with Code Blocks\n",
    "\n",
    "Now let's test with formatted text that includes markdown and code blocks."
   ]
  },
  {
   "cell_type": "code",
   "execution_count": 3,
   "id": "d444e986",
   "metadata": {},
   "outputs": [
    {
     "name": "stdout",
     "output_type": "stream",
     "text": [
      "Original (French with markdown):\n",
      "# Guide de Programmation\n",
      "\n",
      "## Introduction\n",
      "\n",
      "Voici un exemple de **fonction Python** simple:\n",
      "\n",
      "```python\n",
      "def saluer(nom):\n",
      "    return f\"Bonjour {nom}!\"\n",
      "\n",
      "# Utilisation\n",
      "message = saluer(\"Marie\")\n",
      "print(message)\n",
      "```\n",
      "\n",
      "Cette fonction:\n",
      "- Prend un *paramètre* nom\n",
      "- Retourne un message de salutation\n",
      "- Utilise les f-strings pour le formatage\n",
      "\n",
      "> **Note**: Les f-strings sont disponibles depuis Python 3.6\n",
      "\n",
      "\n",
      "==================================================\n",
      "Detected language: fr. Translating to English using AIInference with improved formatting preservation.\n",
      "\n",
      "Translated to English:\n",
      "# Programming Guide\n",
      "\n",
      "## Introduction\n",
      "\n",
      "Here is an example of a **simple Python function**:\n",
      "\n",
      "```python\n",
      "def saluer(nom):\n",
      "    return f\"Bonjour {nom}!\"\n",
      "\n",
      "# Utilisation\n",
      "message = saluer(\"Marie\")\n",
      "print(message)\n",
      "```\n",
      "\n",
      "This function:\n",
      "- Takes a *name* parameter\n",
      "- Returns a greeting message\n",
      "- Uses f-strings for formatting\n",
      "\n",
      "> **Note**: F-strings are available since Python 3.6\n",
      "\n",
      "Translated to English:\n",
      "# Programming Guide\n",
      "\n",
      "## Introduction\n",
      "\n",
      "Here is an example of a **simple Python function**:\n",
      "\n",
      "```python\n",
      "def saluer(nom):\n",
      "    return f\"Bonjour {nom}!\"\n",
      "\n",
      "# Utilisation\n",
      "message = saluer(\"Marie\")\n",
      "print(message)\n",
      "```\n",
      "\n",
      "This function:\n",
      "- Takes a *name* parameter\n",
      "- Returns a greeting message\n",
      "- Uses f-strings for formatting\n",
      "\n",
      "> **Note**: F-strings are available since Python 3.6\n"
     ]
    }
   ],
   "source": [
    "# Reset translator for new language detection\n",
    "translator = TranslatorAgent(inference)\n",
    "\n",
    "# French text with markdown and code\n",
    "french_markdown = \"\"\"# Guide de Programmation\n",
    "\n",
    "## Introduction\n",
    "\n",
    "Voici un exemple de **fonction Python** simple:\n",
    "\n",
    "```python\n",
    "def saluer(nom):\n",
    "    return f\"Bonjour {nom}!\"\n",
    "\n",
    "# Utilisation\n",
    "message = saluer(\"Marie\")\n",
    "print(message)\n",
    "```\n",
    "\n",
    "Cette fonction:\n",
    "- Prend un *paramètre* nom\n",
    "- Retourne un message de salutation\n",
    "- Utilise les f-strings pour le formatage\n",
    "\n",
    "> **Note**: Les f-strings sont disponibles depuis Python 3.6\n",
    "\"\"\"\n",
    "\n",
    "print(\"Original (French with markdown):\")\n",
    "print(french_markdown)\n",
    "print(\"\\n\" + \"=\"*50)\n",
    "\n",
    "# Translate to English\n",
    "english_markdown = translator.translate_input_to_english(french_markdown)\n",
    "print(\"\\nTranslated to English:\")\n",
    "print(english_markdown)"
   ]
  },
  {
   "cell_type": "markdown",
   "id": "4da4d2e4",
   "metadata": {},
   "source": [
    "## Example 3: Interactive Translation\n",
    "\n",
    "Try your own text! Modify the cell below with any text you want to translate."
   ]
  },
  {
   "cell_type": "code",
   "execution_count": 4,
   "id": "dd16d271",
   "metadata": {},
   "outputs": [
    {
     "name": "stdout",
     "output_type": "stream",
     "text": [
      "Your text: Guten Tag! Wie geht es Ihnen heute? Ich hoffe, Sie haben einen schönen Tag.\n",
      "\n",
      "Detecting language and translating...\n",
      "Detected language: de. Translating to English using AIInference with improved formatting preservation.\n",
      "\n",
      "English translation: Good day! How are you today? I hope you have a nice day.\n",
      "Translating back to de using AIInference with improved formatting preservation.\n",
      "\n",
      "English translation: Good day! How are you today? I hope you have a nice day.\n",
      "Translating back to de using AIInference with improved formatting preservation.\n",
      "\n",
      "Back to original language: Guten Tag! Wie geht es Ihnen heute? Ich hoffe, Sie haben einen schönen Tag.\n",
      "\n",
      "Back to original language: Guten Tag! Wie geht es Ihnen heute? Ich hoffe, Sie haben einen schönen Tag.\n"
     ]
    }
   ],
   "source": [
    "# Reset translator for new session\n",
    "translator = TranslatorAgent(inference)\n",
    "\n",
    "# Enter your text here\n",
    "your_text = \"Guten Tag! Wie geht es Ihnen heute? Ich hoffe, Sie haben einen schönen Tag.\"\n",
    "\n",
    "print(f\"Your text: {your_text}\")\n",
    "print(\"\\nDetecting language and translating...\")\n",
    "\n",
    "# Translate to English\n",
    "result = translator.translate_input_to_english(your_text)\n",
    "print(f\"\\nEnglish translation: {result}\")\n",
    "\n",
    "# Translate back\n",
    "back_result = translator.translate_output_to_source_language(result)\n",
    "print(f\"\\nBack to original language: {back_result}\")"
   ]
  },
  {
   "cell_type": "markdown",
   "id": "2568b507",
   "metadata": {},
   "source": [
    "## Example 4: Testing Different Languages\n",
    "\n",
    "Let's test with multiple languages to see how the automatic detection works."
   ]
  },
  {
   "cell_type": "code",
   "execution_count": 6,
   "id": "d1ae8aaa",
   "metadata": {},
   "outputs": [
    {
     "name": "stdout",
     "output_type": "stream",
     "text": [
      "\n",
      "==================================================\n",
      "Testing Italian:\n",
      "Original: Ciao! Come va? Spero che tu stia bene oggi.\n",
      "Detected language: it. Translating to English using AIInference with improved formatting preservation.\n",
      "English: Hi! How are you? I hope you're doing well today.\n",
      "Detected language: it\n",
      "\n",
      "==================================================\n",
      "Testing Portuguese:\n",
      "Original: Olá! Como você está? Espero que tenha um ótimo dia.\n",
      "Detected language: pt. Translating to English using AIInference with improved formatting preservation.\n",
      "English: Hello! How are you? I hope you have a great day.\n",
      "Detected language: pt\n",
      "\n",
      "==================================================\n",
      "Testing Russian:\n",
      "Original: Привет! Как дела? Надеюсь, у тебя все хорошо.\n",
      "Detected language: ru. Translating to English using AIInference with improved formatting preservation.\n",
      "English: Hi! How are you? I hope you're doing well.\n",
      "Detected language: ru\n",
      "\n",
      "==================================================\n",
      "Testing Japanese:\n",
      "Original: こんにちは！元気ですか？良い一日をお過ごしください。\n",
      "Detected language: ja. Translating to English using AIInference with improved formatting preservation.\n",
      "English: Hello! How are you? Have a good day.\n",
      "Detected language: ja\n",
      "\n",
      "==================================================\n",
      "Testing English:\n",
      "Original: Hello! How are you? I hope you have a great day.\n",
      "Detected language: English. No translation needed.\n",
      "English: Hello! How are you? I hope you have a great day.\n"
     ]
    }
   ],
   "source": [
    "# Test texts in different languages\n",
    "test_texts = {\n",
    "    \"Italian\": \"Ciao! Come va? Spero che tu stia bene oggi.\",\n",
    "    \"Portuguese\": \"Olá! Como você está? Espero que tenha um ótimo dia.\",\n",
    "    \"Russian\": \"Привет! Как дела? Надеюсь, у тебя все хорошо.\",\n",
    "    \"Japanese\": \"こんにちは！元気ですか？良い一日をお過ごしください。\",\n",
    "    \"English\": \"Hello! How are you? I hope you have a great day.\"\n",
    "}\n",
    "\n",
    "for language, text in test_texts.items():\n",
    "    print(f\"\\n{'='*50}\")\n",
    "    print(f\"Testing {language}:\")\n",
    "    print(f\"Original: {text}\")\n",
    "    \n",
    "    # Reset translator for each language\n",
    "    translator = TranslatorAgent(inference)\n",
    "    \n",
    "    # Translate to English\n",
    "    english_result = translator.translate_input_to_english(text)\n",
    "    print(f\"English: {english_result}\")\n",
    "    \n",
    "    if translator.source_language != \"en\":\n",
    "        print(f\"Detected language: {translator.source_language}\")"
   ]
  },
  {
   "cell_type": "markdown",
   "id": "25f65c6e",
   "metadata": {},
   "source": [
    "## Key Features Demonstrated\n",
    "\n",
    "This notebook shows the following features of TranslatorAgent:\n",
    "\n",
    "1. **Automatic Language Detection**: Automatically detects the source language\n",
    "2. **Bidirectional Translation**: Translate to English and back to original language\n",
    "3. **Markdown Preservation**: Maintains all markdown formatting\n",
    "4. **Code Block Protection**: Code blocks remain unchanged during translation\n",
    "5. **Multiple Language Support**: Works with many different languages\n",
    "6. **Robust Error Handling**: Gracefully handles translation failures\n",
    "\n",
    "## Notes\n",
    "\n",
    "- Make sure to set the `FEDOTLLM_LLM_API_KEY` environment variable\n",
    "- You can use different AI models by changing the `model` parameter\n",
    "- The translator preserves the source language for consistent back-translation\n",
    "- Code blocks and technical content remain unchanged during translation"
   ]
  }
 ],
 "metadata": {
  "kernelspec": {
   "display_name": ".venv",
   "language": "python",
   "name": "python3"
  },
  "language_info": {
   "codemirror_mode": {
    "name": "ipython",
    "version": 3
   },
   "file_extension": ".py",
   "mimetype": "text/x-python",
   "name": "python",
   "nbconvert_exporter": "python",
   "pygments_lexer": "ipython3",
   "version": "3.10.16"
  }
 },
 "nbformat": 4,
 "nbformat_minor": 5
}
